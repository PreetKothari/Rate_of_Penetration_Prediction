{
 "cells": [
  {
   "cell_type": "code",
   "execution_count": null,
   "metadata": {},
   "outputs": [],
   "source": [
    "!pip install -r requirements.txt"
   ]
  },
  {
   "cell_type": "code",
   "execution_count": null,
   "metadata": {},
   "outputs": [],
   "source": [
    "#Important Libraries\n",
    "import pandas as pd\n",
    "import numpy as np\n",
    "import seaborn as sns\n",
    "import matplotlib.pyplot as plt\n",
    "%matplotlib inline \n",
    "\n",
    "#For saving the model\n",
    "import pickle\n",
    "\n",
    "#Data Preprocessing\n",
    "from sklearn.preprocessing import StandardScaler\n",
    "from sklearn.utils import shuffle\n",
    "from scipy.stats import zscore\n",
    "\n",
    "#Model selection and evalution\n",
    "from sklearn.model_selection import train_test_split\n",
    "from sklearn.metrics import mean_absolute_error, r2_score\n",
    "from sklearn.model_selection import cross_val_score, KFold, GridSearchCV\n",
    "\n",
    "#Models\n",
    "from xgboost import XGBRegressor\n",
    "from sklearn.ensemble import RandomForestRegressor, GradientBoostingRegressor\n",
    "from sklearn.linear_model import LinearRegression\n",
    "from sklearn.neighbors import KNeighborsRegressor"
   ]
  },
  {
   "cell_type": "code",
   "execution_count": null,
   "metadata": {},
   "outputs": [],
   "source": [
    "class Model(object):\n",
    "    def __init__(self, model_file, scaler_file):\n",
    "        # Load pre-trained model from file\n",
    "        self.model = pickle.load(open(model_file, 'rb'))\n",
    "        # Load a \"pre-trained\" scaler from file\n",
    "        self.scaler = pickle.load(open(scaler_file, 'rb'))\n",
    "        \n",
    "    def _preprocess(self, features):\n",
    "        # Method to be run before inference. Contains things like\n",
    "        # stripping unwanted columns, replacing NaNs, and scaling \n",
    "        # or normalizing data\n",
    "        features.replace(['-999', -999], np.nan, inplace=True)\n",
    "        features.fillna(0, inplace=True)\n",
    "        features.drop(['Well Identifier'], axis=1, inplace=True)\n",
    "        return self.scaler.fit_transform(features)\n",
    "        \n",
    "    def predict(self, features):\n",
    "        # This function should be able to take in features in their\n",
    "        # raw, unprocessed form as read from the file test.csv and\n",
    "        # return predictions as an array integers of the same length\n",
    "        X = self._preprocess(features)\n",
    "        y_pred = self.model.predict(X)\n",
    "        for i in range(len(y_pred)):\n",
    "            if ( y_pred[i] < 0):\n",
    "                y_pred[i] = 0.0 + np.random.randint(0, 20000)/1000\n",
    "\n",
    "        return y_pred"
   ]
  },
  {
   "cell_type": "code",
   "execution_count": null,
   "metadata": {},
   "outputs": [],
   "source": [
    "model = Model('model.pkl', 'scaler.pkl') \n",
    "\n",
    "testset = pd.read_csv('tech_challenge2021_test.csv')\n",
    "\n",
    "testset_pred = model.predict(testset)\n",
    "\n",
    "np.savetxt('result.csv', testset_pred, header='Rate of Penetration', comments='', fmt='%f')"
   ]
  }
 ],
 "metadata": {
  "kernelspec": {
   "display_name": "Python 3",
   "language": "python",
   "name": "python3"
  },
  "language_info": {
   "codemirror_mode": {
    "name": "ipython",
    "version": 3
   },
   "file_extension": ".py",
   "mimetype": "text/x-python",
   "name": "python",
   "nbconvert_exporter": "python",
   "pygments_lexer": "ipython3",
   "version": "3.7.3"
  }
 },
 "nbformat": 4,
 "nbformat_minor": 2
}
